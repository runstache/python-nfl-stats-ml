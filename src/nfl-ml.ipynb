{
 "cells": [
  {
   "cell_type": "code",
   "execution_count": 178,
   "metadata": {},
   "outputs": [
    {
     "name": "stdout",
     "output_type": "stream",
     "text": [
      "2.6.0\n"
     ]
    }
   ],
   "source": [
    "import matplotlib.pyplot as plt\n",
    "import numpy as np\n",
    "import pandas as pd\n",
    "import seaborn as sns\n",
    "import tensorflow as tf\n",
    "from tensorflow import keras\n",
    "from tensorflow.keras import layers\n",
    "\n",
    "np.set_printoptions(precision=3, suppress=True)\n",
    "print(tf.__version__)"
   ]
  },
  {
   "cell_type": "code",
   "execution_count": 179,
   "metadata": {},
   "outputs": [
    {
     "data": {
      "text/plain": [
       "0       2\n",
       "1       2\n",
       "2       2\n",
       "3       2\n",
       "4       2\n",
       "       ..\n",
       "4979    2\n",
       "4980    2\n",
       "4981    2\n",
       "4982    2\n",
       "4983    2\n",
       "Name: TypeId, Length: 4984, dtype: int64"
      ]
     },
     "execution_count": 179,
     "metadata": {},
     "output_type": "execute_result"
    }
   ],
   "source": [
    "csv_path = '/workspaces/python-nfl-stats-ml/src/input/RegularSeasonMLData.txt'\n",
    "raw_df = pd.read_csv(csv_path)\n",
    "\n",
    "# Copy the Raw Data to a new Dataframe\n",
    "dataset = raw_df.copy()\n",
    "\n",
    "# Clean out the N/A Values\n",
    "dataset.dropna()\n",
    "\n",
    "# Drop the unneeded items\n",
    "dataset.pop('YearValue')\n",
    "dataset.pop('WeekNumber')\n",
    "dataset.pop('TypeId')\n",
    "\n"
   ]
  },
  {
   "cell_type": "code",
   "execution_count": 180,
   "metadata": {},
   "outputs": [],
   "source": [
    "# Build Training Set\n",
    "train_dataset = dataset.sample(frac=0.8, random_state=0)\n",
    "\n",
    "# Build the Test Data Set\n",
    "test_dataset = dataset.drop(train_dataset.index)\n",
    "\n",
    "#Plots\n",
    "#sns.pairplot(train_dataset, vars=['YardsPerPass', 'PassingAttempts', 'OppDefYardsPerPassAllowed', 'PassYards', 'OppDefRedzoneEfficiency', 'OffenseEfficiency', 'PointsScored'], hue='Result', diag_kind='kde')\n"
   ]
  },
  {
   "cell_type": "code",
   "execution_count": 181,
   "metadata": {},
   "outputs": [],
   "source": [
    "train_features = train_dataset.copy()\n",
    "test_features = test_dataset.copy()\n",
    "\n",
    "#Remove the Meta information\n",
    "train_features.pop('Team')\n",
    "train_features.pop('Opponent')\n",
    "train_features.pop('IsHome')\n",
    "\n",
    "test_features.pop('Team')\n",
    "test_features.pop('Opponent')\n",
    "test_features.pop('IsHome')\n",
    "\n",
    "# Remove the other score information\n",
    "train_features.pop('PointsAllowed')\n",
    "train_features.pop('TotalPoints')\n",
    "train_features.pop('PointDifferential')\n",
    "train_features.pop('Result')\n",
    "\n",
    "test_features.pop('PointsAllowed')\n",
    "test_features.pop('TotalPoints')\n",
    "test_features.pop('PointDifferential')\n",
    "test_features.pop('Result')\n",
    "\n",
    "train_labels = train_features.pop('PointsScored')\n",
    "test_labels = test_features.pop('PointsScored')\n",
    "\n",
    "# normalize features\n",
    "\n",
    "normilizer = tf.keras.layers.Normalization(axis=-1)\n",
    "normilizer.adapt(np.array(train_features))\n",
    "#print(normilizer.mean.numpy())\n"
   ]
  },
  {
   "cell_type": "code",
   "execution_count": 182,
   "metadata": {},
   "outputs": [
    {
     "name": "stdout",
     "output_type": "stream",
     "text": [
      "Model: \"sequential_8\"\n",
      "_________________________________________________________________\n",
      "Layer (type)                 Output Shape              Param #   \n",
      "=================================================================\n",
      "normalization_41 (Normalizat (None, 1)                 3         \n",
      "_________________________________________________________________\n",
      "dense_8 (Dense)              (None, 1)                 2         \n",
      "=================================================================\n",
      "Total params: 5\n",
      "Trainable params: 2\n",
      "Non-trainable params: 3\n",
      "_________________________________________________________________\n"
     ]
    }
   ],
   "source": [
    "# Regression On Offensive Efficiency\n",
    "efficiency = np.array(train_features['OffenseEfficiency'])\n",
    "efficiency_normalizer = layers.Normalization(input_shape=[1,], axis=None)\n",
    "efficiency_normalizer.adapt(efficiency)\n",
    "\n",
    "efficiency_model = tf.keras.Sequential([\n",
    "  efficiency_normalizer,\n",
    "  layers.Dense(units=1)\n",
    "])\n",
    "\n",
    "efficiency_model.summary()"
   ]
  },
  {
   "cell_type": "code",
   "execution_count": 183,
   "metadata": {},
   "outputs": [],
   "source": [
    "efficiency_model.predict(efficiency[:10])\n",
    "\n",
    "efficiency_model.compile(optimizer=tf.optimizers.Adam(learning_rate=0.1),loss='mean_absolute_error')\n",
    "\n",
    "history = efficiency_model.fit(\n",
    "  train_features['OffenseEfficiency'],\n",
    "  train_labels,\n",
    "  epochs=100,\n",
    "  verbose=0,\n",
    "  validation_split=0.2)\n",
    "hist = pd.DataFrame(history.history)\n",
    "if 'epoch' in hist:\n",
    "  hist['epoch'] = history.epoch\n",
    "  hist.tail()"
   ]
  },
  {
   "cell_type": "code",
   "execution_count": 184,
   "metadata": {},
   "outputs": [],
   "source": [
    "def plot_loss(history):\n",
    "  plt.plot(history.history['loss'], label='loss')\n",
    "  plt.plot(history.history['val_loss'], label='val_loss')\n",
    "  plt.ylim([0,10])\n",
    "  plt.xlabel('Epoch')\n",
    "  plt.ylabel('Error [Efficiency]')\n",
    "  plt.legend()\n",
    "  plt.grid(True)"
   ]
  },
  {
   "cell_type": "code",
   "execution_count": 185,
   "metadata": {},
   "outputs": [
    {
     "data": {
      "image/png": "[encoded data removed]",
      "text/plain": [
       "<Figure size 432x288 with 1 Axes>"
      ]
     },
     "metadata": {
      "needs_background": "light"
     },
     "output_type": "display_data"
    }
   ],
   "source": [
    "plot_loss(history)"
   ]
  },
  {
   "cell_type": "code",
   "execution_count": 186,
   "metadata": {},
   "outputs": [],
   "source": [
    "test_results = {}\n",
    "test_results['efficiency_model'] = efficiency_model.evaluate(\n",
    "  test_features['OffenseEfficiency'],\n",
    "  test_labels,\n",
    "  verbose=0)"
   ]
  },
  {
   "cell_type": "code",
   "execution_count": 187,
   "metadata": {},
   "outputs": [],
   "source": [
    "x = tf.linspace(0.0,250,251)\n",
    "y = efficiency_model.predict(x)"
   ]
  },
  {
   "cell_type": "code",
   "execution_count": 188,
   "metadata": {},
   "outputs": [],
   "source": [
    "def plot_efficiency(x, y):\n",
    "  plt.scatter(train_features['OffenseEfficiency'], train_labels, label='Data')\n",
    "  plt.plot(x,y, color='k', label='Predicitions')\n",
    "  plt.xlabel('Efficiency')\n",
    "  plt.ylabel('PointsScored')\n",
    "  plt.legend()\n"
   ]
  },
  {
   "cell_type": "code",
   "execution_count": 189,
   "metadata": {},
   "outputs": [
    {
     "data": {
      "image/png": "[encoded data removed]",
      "text/plain": [
       "<Figure size 432x288 with 1 Axes>"
      ]
     },
     "metadata": {
      "needs_background": "light"
     },
     "output_type": "display_data"
    }
   ],
   "source": [
    "plot_efficiency(x,y)"
   ]
  }
 ],
 "metadata": {
  "interpreter": {
   "hash": "949777d72b0d2535278d3dc13498b2535136f6dfe0678499012e853ee9abcab1"
  },
  "kernelspec": {
   "display_name": "Python 3.9.7 64-bit",
   "name": "python3"
  },
  "language_info": {
   "codemirror_mode": {
    "name": "ipython",
    "version": 3
   },
   "file_extension": ".py",
   "mimetype": "text/x-python",
   "name": "python",
   "nbconvert_exporter": "python",
   "pygments_lexer": "ipython3",
   "version": "3.6.9"
  },
  "orig_nbformat": 4
 },
 "nbformat": 4,
 "nbformat_minor": 2
}
